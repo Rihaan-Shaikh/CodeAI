{
  "nbformat": 4,
  "nbformat_minor": 0,
  "metadata": {
    "colab": {
      "provenance": [],
      "include_colab_link": true
    },
    "kernelspec": {
      "name": "python3",
      "display_name": "Python 3"
    },
    "language_info": {
      "name": "python"
    }
  },
  "cells": [
    {
      "cell_type": "markdown",
      "metadata": {
        "id": "view-in-github",
        "colab_type": "text"
      },
      "source": [
        "<a href=\"https://colab.research.google.com/github/Rihaan-Shaikh/CodeAI/blob/main/Task1_TechAI.ipynb\" target=\"_parent\"><img src=\"https://colab.research.google.com/assets/colab-badge.svg\" alt=\"Open In Colab\"/></a>"
      ]
    },
    {
      "cell_type": "markdown",
      "source": [
        "# ***FOR DOING THE TASK MAKE THE COPY OF THIS COLLAB FILE IN YOUR DRIVE***"
      ],
      "metadata": {
        "id": "XnP1PxmLWjlC"
      }
    },
    {
      "cell_type": "markdown",
      "source": [
        "### 1. Python Basics & Control Structures\n",
        "\n",
        "*Task*:\n",
        "\n",
        "* Write a Python program that:\n",
        "\n",
        "  * Takes a list of strings (e.g., [\"apple\", \"banana\", \"grape\", \"kiwi\", \"orange\"]).\n",
        "  * Filters out fruits with more than 5 characters using a for loop and if statement.\n",
        "  * For each fruit, print its length.\n",
        "\n",
        "*Example Input*:\n",
        "\n",
        "python\n",
        "fruits = [\"apple\", \"banana\", \"grape\", \"kiwi\", \"orange\"]"
      ],
      "metadata": {
        "id": "RBNeAaOLxbe5"
      }
    },
    {
      "cell_type": "code",
      "execution_count": 1,
      "metadata": {
        "id": "NcI_p7F0vFhz",
        "colab": {
          "base_uri": "https://localhost:8080/"
        },
        "outputId": "7cda3c32-b506-413d-c32e-c7cf1ddf9487"
      },
      "outputs": [
        {
          "output_type": "stream",
          "name": "stdout",
          "text": [
            "Enter fruits Apple banana grape kiwi\n",
            "Entered List of fruits is  ['Apple', 'banana', 'grape', 'kiwi'] \n",
            "The fruit  banana has 6 characters. \n"
          ]
        }
      ],
      "source": [
        "List=[]\n",
        "List=input(\"Enter fruits \").split()\n",
        "print(f\"Entered List of fruits is  {List} \")\n",
        "for i in range(len(List)):\n",
        "    if len(List[i])>5:\n",
        "     print(f\"The fruit  {List[i]} has {len(List[i])} characters. \")"
      ]
    },
    {
      "cell_type": "markdown",
      "source": [
        "\n",
        "*Expected Output*:\n",
        "\n",
        "\n",
        "The fruit apple has 5 characters.\n",
        "\n",
        "The fruit banana has 6 characters.\n",
        "\n",
        "The fruit orange has 6 characters.\n"
      ],
      "metadata": {
        "id": "sQeiBzi9xjIl"
      }
    },
    {
      "cell_type": "markdown",
      "source": [
        "### 2. Functions & Lambda\n",
        "\n",
        "*Task*:\n",
        "\n",
        "* Write a function that takes a list of integers and a threshold value. Use a **lambda* function inside filter() to return a list of numbers greater than the threshold.\n",
        "\n",
        "\n",
        "  # Test the function with a list [1, 5, 10, 3, 8] and threshold 5\n",
        "\n",
        "\n",
        "\n",
        "\n"
      ],
      "metadata": {
        "id": "k12WGkNoyAgY"
      }
    },
    {
      "cell_type": "code",
      "source": [
        "def Num_Filter(num,threshold):\n",
        "   return list(filter(lambda x: x>threshold,num))\n",
        "\n",
        "print(Num_Filter([1,5,10,3,8],5))"
      ],
      "metadata": {
        "id": "xSLokk2iy1OQ",
        "colab": {
          "base_uri": "https://localhost:8080/"
        },
        "outputId": "541fb02c-76c8-4d93-c0c4-bae13328900a"
      },
      "execution_count": 2,
      "outputs": [
        {
          "output_type": "stream",
          "name": "stdout",
          "text": [
            "[10, 8]\n"
          ]
        }
      ]
    },
    {
      "cell_type": "markdown",
      "source": [
        "### 3. Object-Oriented Programming (OOP)\n",
        "\n",
        "*Task*:\n",
        "\n",
        "* Implement a BankAccount class with methods for depositing, withdrawing, transferring, and checking balance.\n",
        "* Implement *Polymorphism* by overriding the __str__ method to provide a custom string representation of the account.\n",
        "\n",
        "\n",
        "# Example\n",
        "account_a = BankAccount(\"A123\", \"Alice\", 1000)\n",
        "\n",
        "account_b = BankAccount(\"B456\", \"Bob\", 500)\n",
        "\n",
        "account_a.deposit(200)\n",
        "\n",
        "account_a.transfer(300, account_b)\n"
      ],
      "metadata": {
        "id": "qFz4IBidxuK8"
      }
    },
    {
      "cell_type": "code",
      "source": [
        "class Bankacc:\n",
        "  def __init__(self,acc,name,balance=0):\n",
        "      self.acc,self.name,self.bal= acc,name,balance\n",
        "\n",
        "  def deposit(self,amt):\n",
        "    self.bal+=amt\n",
        "\n",
        "  def withdraw(self,amt):\n",
        "    self.bal-=amt\n",
        "  def transfer(self,amt,other):\n",
        "    if amt<=self.bal:\n",
        "        self.bal, other.bal= self.bal-amt, other.bal+amt\n",
        "\n",
        "  def __str__(self):\n",
        "      return f\"{self.name} ({self.acc}) Balance: {self.bal}\"\n",
        "\n",
        "account_a = Bankacc(\"A123\", \"Alice\", 1000)\n",
        "\n",
        "account_b = Bankacc(\"B456\", \"Bob\", 500)\n",
        "\n",
        "account_a.deposit(200)\n",
        "\n",
        "account_a.transfer(300, account_b)\n",
        "print(account_a)\n",
        "print(account_b)\n"
      ],
      "metadata": {
        "id": "nkl25hP8zWJQ",
        "colab": {
          "base_uri": "https://localhost:8080/"
        },
        "outputId": "11624d71-6994-4d7a-933b-f16913cc8208"
      },
      "execution_count": 5,
      "outputs": [
        {
          "output_type": "stream",
          "name": "stdout",
          "text": [
            "Alice (A123) Balance: 900\n",
            "Bob (B456) Balance: 800\n"
          ]
        }
      ]
    },
    {
      "cell_type": "markdown",
      "source": [
        "### 4. Exception Handling\n",
        "\n",
        "*Task*:\n",
        "\n",
        "* Write a divide_numbers(a, b) function with exception handling:\n",
        "\n",
        "  * Handle division by zero and invalid input (non-numeric values).\n",
        "\n",
        "\n",
        "# Test the function\n",
        "print(divide_numbers(10, 2))   # Valid input\n",
        "\n",
        "print(divide_numbers(10, 0))   # Division by zero\n",
        "\n",
        "print(divide_numbers(\"ten\", 2))  # Invalid input"
      ],
      "metadata": {
        "id": "R9op0Bt0xttt"
      }
    },
    {
      "cell_type": "code",
      "source": [
        "\n",
        "def divide(a,b):\n",
        "    try:\n",
        "        result= float(a)/float(b)\n",
        "        return f\"Result = {result}\"\n",
        "    except ZeroDivisionError:\n",
        "       return \"Error occured , div by 0 not allowed\"\n",
        "    except ValueError:\n",
        "       return \"Invalid input, please enter numbers only\"\n",
        "\n",
        "print(divide(10,2))\n",
        "print(divide(5,0))\n",
        "print(divide(\"ten\",2))"
      ],
      "metadata": {
        "id": "DEZfXk4V0A8_",
        "colab": {
          "base_uri": "https://localhost:8080/"
        },
        "outputId": "e2f51819-0cab-4c5e-d718-c172255f5ad5"
      },
      "execution_count": 10,
      "outputs": [
        {
          "output_type": "stream",
          "name": "stdout",
          "text": [
            "Result = 5.0\n",
            "Error occured , div by 0 not allowed\n",
            "Invalid input, please enter numbers only\n"
          ]
        }
      ]
    },
    {
      "cell_type": "markdown",
      "source": [
        "*Example Expected Output*:\n",
        "\n",
        "\n",
        "5.0\n",
        "\n",
        "Cannot divide by zero\n",
        "\n",
        "Invalid input, please enter numbers"
      ],
      "metadata": {
        "id": "UAfaux4e0LsB"
      }
    },
    {
      "cell_type": "markdown",
      "source": [
        "### 5. Python Modules & File Handling\n",
        "\n",
        "*Task*:\n",
        "\n",
        "* Write a Python program to:\n",
        "\n",
        "  * Create a text file \"students.txt\" with student names and marks.\n",
        "  * Read the file and print names of students with marks above 80.\n",
        "\n",
        "\n",
        "\n",
        "\n"
      ],
      "metadata": {
        "id": "_zo-t7xZ0ayU"
      }
    },
    {
      "cell_type": "markdown",
      "source": [],
      "metadata": {
        "id": "WBnoBLLjisfd"
      }
    },
    {
      "cell_type": "code",
      "source": [
        "  with open(\"students.txt\",\"w\") as f:\n",
        "       f.write(\"Alice 99  \\n\")\n",
        "       f.write(\"Bob  93 \\n\")\n",
        "       f.write(\"David 87 \\n\")\n",
        "       f.write(\"Jake 64 \\n\")\n",
        "  with open(\"students.txt\",\"r\") as f:\n",
        "        for line in f:\n",
        "            name, marks =line.split()\n",
        "            if int(marks)>80:\n",
        "              print(name)"
      ],
      "metadata": {
        "id": "kp3PLXuv0_cU",
        "colab": {
          "base_uri": "https://localhost:8080/"
        },
        "outputId": "5ceac17a-aef8-45a1-fbc4-1ad6b086629c"
      },
      "execution_count": 12,
      "outputs": [
        {
          "output_type": "stream",
          "name": "stdout",
          "text": [
            "Alice\n",
            "Bob\n",
            "David\n"
          ]
        }
      ]
    },
    {
      "cell_type": "markdown",
      "source": [
        "\n",
        "*Expected Output*:\n",
        "\n",
        "\n",
        "Alice\n",
        "\n",
        "Bob\n",
        "\n",
        "David\n"
      ],
      "metadata": {
        "id": "BGTgVTJZ0_7b"
      }
    },
    {
      "cell_type": "markdown",
      "source": [
        "### 6. Regular Expressions\n",
        "\n",
        "*Task*:\n",
        "\n",
        "* Write a Python function extract_phone_numbers(text) that extracts all phone numbers from a given text. The phone numbers should be in the format (xxx) xxx-xxxx.\n",
        "\n",
        "\n",
        "sample_text = (\n",
        "    \"For any support regarding our Bangalore office, call us at +91-9876543210 between 9 AM to 6 PM. \"\n",
        "    \"If you are located in Mumbai, you can also reach our helpdesk at 9123456789 for urgent assistance. \"\n",
        "    \"Additionally, our Delhi branch can be contacted at +91-9988776655 during weekdays.\"\n",
        ")\n",
        "\n",
        "\n",
        "\n",
        "\n",
        "*Expected Output*:\n",
        "\n",
        "\n",
        "['+91-9876543210', '+91-9988776655']\n"
      ],
      "metadata": {
        "id": "buuDAsX_2ZEg"
      }
    },
    {
      "cell_type": "code",
      "source": [
        "import re\n",
        "def extract(text):\n",
        "    pattern =r\"\\+91-\\d{10}\"\n",
        "    return re.findall(pattern,text)\n",
        "\n",
        "sample_text = ( \"For any support regarding our Bangalore office, call us at +91-9876543210 between 9 AM to 6 PM. \"\n",
        "   \"If you are located in Mumbai, you can also reach our helpdesk at 9123456789 for urgent assistance. \"\n",
        "    \"Additionally, our Delhi branch can be contacted at +91-9988776655 during weekdays.\" )\n",
        "print(extract(sample_text))"
      ],
      "metadata": {
        "id": "Nx0oXsT92Ytu",
        "colab": {
          "base_uri": "https://localhost:8080/"
        },
        "outputId": "dd3af33a-47de-4b7d-8b3e-505cbaefaade"
      },
      "execution_count": 19,
      "outputs": [
        {
          "output_type": "stream",
          "name": "stdout",
          "text": [
            "['+91-9876543210', '+91-9988776655']\n"
          ]
        }
      ]
    },
    {
      "cell_type": "markdown",
      "source": [
        "\n",
        "*Expected Output*:\n",
        "\n",
        "\n",
        "['+91-9876543210', '+91-9988776655']"
      ],
      "metadata": {
        "id": "6uPEN50JQ4IP"
      }
    }
  ]
}